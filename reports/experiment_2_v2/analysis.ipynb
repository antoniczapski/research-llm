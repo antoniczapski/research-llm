{
 "cells": [
  {
   "cell_type": "code",
   "execution_count": 1,
   "metadata": {},
   "outputs": [
    {
     "name": "stderr",
     "output_type": "stream",
     "text": [
      "/tmp/matplotlib is not a writable directory\n",
      "Matplotlib created a temporary cache directory at /tmp/matplotlib-fg9t6a7y because there was an issue with the default path (/tmp/matplotlib); it is highly recommended to set the MPLCONFIGDIR environment variable to a writable directory, in particular to speed up the import of Matplotlib and to better support multiprocessing.\n"
     ]
    }
   ],
   "source": [
    "# Import essential libraries\n",
    "import pandas as pd\n",
    "import matplotlib.pyplot as plt\n",
    "import seaborn as sns\n",
    "\n",
    "# Configure visualizations\n",
    "%matplotlib inline\n",
    "sns.set(style=\"whitegrid\")\n"
   ]
  },
  {
   "cell_type": "code",
   "execution_count": 2,
   "metadata": {},
   "outputs": [
    {
     "name": "stdout",
     "output_type": "stream",
     "text": [
      "Normal Corpus Results:\n"
     ]
    },
    {
     "data": {
      "text/html": [
       "<div>\n",
       "<style scoped>\n",
       "    .dataframe tbody tr th:only-of-type {\n",
       "        vertical-align: middle;\n",
       "    }\n",
       "\n",
       "    .dataframe tbody tr th {\n",
       "        vertical-align: top;\n",
       "    }\n",
       "\n",
       "    .dataframe thead th {\n",
       "        text-align: right;\n",
       "    }\n",
       "</style>\n",
       "<table border=\"1\" class=\"dataframe\">\n",
       "  <thead>\n",
       "    <tr style=\"text-align: right;\">\n",
       "      <th></th>\n",
       "      <th>training iterations</th>\n",
       "      <th>perplexity</th>\n",
       "      <th>perplexity POS</th>\n",
       "    </tr>\n",
       "  </thead>\n",
       "  <tbody>\n",
       "    <tr>\n",
       "      <th>0</th>\n",
       "      <td>500</td>\n",
       "      <td>444.797150</td>\n",
       "      <td>inf</td>\n",
       "    </tr>\n",
       "    <tr>\n",
       "      <th>1</th>\n",
       "      <td>1000</td>\n",
       "      <td>5982.384766</td>\n",
       "      <td>inf</td>\n",
       "    </tr>\n",
       "    <tr>\n",
       "      <th>2</th>\n",
       "      <td>1500</td>\n",
       "      <td>23861.000000</td>\n",
       "      <td>inf</td>\n",
       "    </tr>\n",
       "    <tr>\n",
       "      <th>3</th>\n",
       "      <td>2000</td>\n",
       "      <td>53467.375000</td>\n",
       "      <td>inf</td>\n",
       "    </tr>\n",
       "    <tr>\n",
       "      <th>4</th>\n",
       "      <td>2500</td>\n",
       "      <td>96898.335938</td>\n",
       "      <td>inf</td>\n",
       "    </tr>\n",
       "  </tbody>\n",
       "</table>\n",
       "</div>"
      ],
      "text/plain": [
       "   training iterations    perplexity  perplexity POS\n",
       "0                  500    444.797150             inf\n",
       "1                 1000   5982.384766             inf\n",
       "2                 1500  23861.000000             inf\n",
       "3                 2000  53467.375000             inf\n",
       "4                 2500  96898.335938             inf"
      ]
     },
     "metadata": {},
     "output_type": "display_data"
    },
    {
     "name": "stdout",
     "output_type": "stream",
     "text": [
      "\n",
      "POS-Tagged Corpus Results:\n"
     ]
    },
    {
     "data": {
      "text/html": [
       "<div>\n",
       "<style scoped>\n",
       "    .dataframe tbody tr th:only-of-type {\n",
       "        vertical-align: middle;\n",
       "    }\n",
       "\n",
       "    .dataframe tbody tr th {\n",
       "        vertical-align: top;\n",
       "    }\n",
       "\n",
       "    .dataframe thead th {\n",
       "        text-align: right;\n",
       "    }\n",
       "</style>\n",
       "<table border=\"1\" class=\"dataframe\">\n",
       "  <thead>\n",
       "    <tr style=\"text-align: right;\">\n",
       "      <th></th>\n",
       "      <th>training iterations</th>\n",
       "      <th>perplexity</th>\n",
       "      <th>perplexity POS</th>\n",
       "    </tr>\n",
       "  </thead>\n",
       "  <tbody>\n",
       "    <tr>\n",
       "      <th>0</th>\n",
       "      <td>200</td>\n",
       "      <td>1029.993896</td>\n",
       "      <td>1.427468</td>\n",
       "    </tr>\n",
       "    <tr>\n",
       "      <th>1</th>\n",
       "      <td>400</td>\n",
       "      <td>455.577484</td>\n",
       "      <td>1.335548</td>\n",
       "    </tr>\n",
       "    <tr>\n",
       "      <th>2</th>\n",
       "      <td>600</td>\n",
       "      <td>361.236389</td>\n",
       "      <td>1.255644</td>\n",
       "    </tr>\n",
       "    <tr>\n",
       "      <th>3</th>\n",
       "      <td>800</td>\n",
       "      <td>517.483948</td>\n",
       "      <td>1.339330</td>\n",
       "    </tr>\n",
       "    <tr>\n",
       "      <th>4</th>\n",
       "      <td>1000</td>\n",
       "      <td>1560.149536</td>\n",
       "      <td>1.401205</td>\n",
       "    </tr>\n",
       "  </tbody>\n",
       "</table>\n",
       "</div>"
      ],
      "text/plain": [
       "   training iterations   perplexity  perplexity POS\n",
       "0                  200  1029.993896        1.427468\n",
       "1                  400   455.577484        1.335548\n",
       "2                  600   361.236389        1.255644\n",
       "3                  800   517.483948        1.339330\n",
       "4                 1000  1560.149536        1.401205"
      ]
     },
     "metadata": {},
     "output_type": "display_data"
    }
   ],
   "source": [
    "# Define file paths\n",
    "normal_csv_path = './results_ground_post_normal.csv'\n",
    "post_csv_path = './results_ground_post.csv'\n",
    "\n",
    "# Load CSV files into pandas DataFrames\n",
    "df_normal = pd.read_csv(normal_csv_path)\n",
    "df_post = pd.read_csv(post_csv_path)\n",
    "\n",
    "# Display the first few rows of each DataFrame\n",
    "print(\"Normal Corpus Results:\")\n",
    "display(df_normal.head())\n",
    "\n",
    "print(\"\\nPOS-Tagged Corpus Results:\")\n",
    "display(df_post.head())\n"
   ]
  },
  {
   "cell_type": "code",
   "execution_count": 3,
   "metadata": {},
   "outputs": [
    {
     "name": "stdout",
     "output_type": "stream",
     "text": [
      "Missing values in Normal Corpus:\n",
      "training iterations    0\n",
      "perplexity             0\n",
      "perplexity POS         0\n",
      "dtype: int64\n",
      "\n",
      "Missing values in POS-Tagged Corpus:\n",
      "training iterations    0\n",
      "perplexity             0\n",
      "perplexity POS         0\n",
      "dtype: int64\n",
      "\n",
      "Number of common training iterations: 2\n",
      "Mismatch in training iterations between datasets.\n"
     ]
    }
   ],
   "source": [
    "# Check for missing values\n",
    "print(\"Missing values in Normal Corpus:\")\n",
    "print(df_normal.isnull().sum())\n",
    "\n",
    "print(\"\\nMissing values in POS-Tagged Corpus:\")\n",
    "print(df_post.isnull().sum())\n",
    "\n",
    "# Ensure that training iterations match between both datasets\n",
    "iterations_normal = set(df_normal['training iterations'])\n",
    "iterations_post = set(df_post['training iterations'])\n",
    "\n",
    "common_iterations = iterations_normal.intersection(iterations_post)\n",
    "print(f\"\\nNumber of common training iterations: {len(common_iterations)}\")\n",
    "\n",
    "if len(common_iterations) == len(df_normal) and len(common_iterations) == len(df_post):\n",
    "    print(\"All training iterations match between datasets.\")\n",
    "else:\n",
    "    print(\"Mismatch in training iterations between datasets.\")\n"
   ]
  },
  {
   "cell_type": "code",
   "execution_count": 4,
   "metadata": {},
   "outputs": [
    {
     "name": "stdout",
     "output_type": "stream",
     "text": [
      "Summary Statistics - Normal Corpus:\n"
     ]
    },
    {
     "name": "stderr",
     "output_type": "stream",
     "text": [
      "/pio/scratch/1/i317214/miniconda/envs/hallucination_detection/lib/python3.11/site-packages/pandas/core/nanops.py:1016: RuntimeWarning: invalid value encountered in subtract\n",
      "  sqr = _ensure_numeric((avg - values) ** 2)\n",
      "/pio/scratch/1/i317214/miniconda/envs/hallucination_detection/lib/python3.11/site-packages/numpy/lib/_function_base_impl.py:4720: RuntimeWarning: invalid value encountered in subtract\n",
      "  diff_b_a = subtract(b, a)\n"
     ]
    },
    {
     "data": {
      "text/html": [
       "<div>\n",
       "<style scoped>\n",
       "    .dataframe tbody tr th:only-of-type {\n",
       "        vertical-align: middle;\n",
       "    }\n",
       "\n",
       "    .dataframe tbody tr th {\n",
       "        vertical-align: top;\n",
       "    }\n",
       "\n",
       "    .dataframe thead th {\n",
       "        text-align: right;\n",
       "    }\n",
       "</style>\n",
       "<table border=\"1\" class=\"dataframe\">\n",
       "  <thead>\n",
       "    <tr style=\"text-align: right;\">\n",
       "      <th></th>\n",
       "      <th>training iterations</th>\n",
       "      <th>perplexity</th>\n",
       "      <th>perplexity POS</th>\n",
       "    </tr>\n",
       "  </thead>\n",
       "  <tbody>\n",
       "    <tr>\n",
       "      <th>count</th>\n",
       "      <td>8.000000</td>\n",
       "      <td>8.000000</td>\n",
       "      <td>8.0</td>\n",
       "    </tr>\n",
       "    <tr>\n",
       "      <th>mean</th>\n",
       "      <td>2250.000000</td>\n",
       "      <td>83427.707310</td>\n",
       "      <td>inf</td>\n",
       "    </tr>\n",
       "    <tr>\n",
       "      <th>std</th>\n",
       "      <td>1224.744871</td>\n",
       "      <td>75329.654226</td>\n",
       "      <td>NaN</td>\n",
       "    </tr>\n",
       "    <tr>\n",
       "      <th>min</th>\n",
       "      <td>500.000000</td>\n",
       "      <td>444.797150</td>\n",
       "      <td>inf</td>\n",
       "    </tr>\n",
       "    <tr>\n",
       "      <th>25%</th>\n",
       "      <td>1375.000000</td>\n",
       "      <td>19391.346191</td>\n",
       "      <td>NaN</td>\n",
       "    </tr>\n",
       "    <tr>\n",
       "      <th>50%</th>\n",
       "      <td>2250.000000</td>\n",
       "      <td>75182.855469</td>\n",
       "      <td>NaN</td>\n",
       "    </tr>\n",
       "    <tr>\n",
       "      <th>75%</th>\n",
       "      <td>3125.000000</td>\n",
       "      <td>130409.679688</td>\n",
       "      <td>NaN</td>\n",
       "    </tr>\n",
       "    <tr>\n",
       "      <th>max</th>\n",
       "      <td>4000.000000</td>\n",
       "      <td>193529.609375</td>\n",
       "      <td>inf</td>\n",
       "    </tr>\n",
       "  </tbody>\n",
       "</table>\n",
       "</div>"
      ],
      "text/plain": [
       "       training iterations     perplexity  perplexity POS\n",
       "count             8.000000       8.000000             8.0\n",
       "mean           2250.000000   83427.707310             inf\n",
       "std            1224.744871   75329.654226             NaN\n",
       "min             500.000000     444.797150             inf\n",
       "25%            1375.000000   19391.346191             NaN\n",
       "50%            2250.000000   75182.855469             NaN\n",
       "75%            3125.000000  130409.679688             NaN\n",
       "max            4000.000000  193529.609375             inf"
      ]
     },
     "metadata": {},
     "output_type": "display_data"
    },
    {
     "name": "stdout",
     "output_type": "stream",
     "text": [
      "\n",
      "Summary Statistics - POS-Tagged Corpus:\n"
     ]
    },
    {
     "data": {
      "text/html": [
       "<div>\n",
       "<style scoped>\n",
       "    .dataframe tbody tr th:only-of-type {\n",
       "        vertical-align: middle;\n",
       "    }\n",
       "\n",
       "    .dataframe tbody tr th {\n",
       "        vertical-align: top;\n",
       "    }\n",
       "\n",
       "    .dataframe thead th {\n",
       "        text-align: right;\n",
       "    }\n",
       "</style>\n",
       "<table border=\"1\" class=\"dataframe\">\n",
       "  <thead>\n",
       "    <tr style=\"text-align: right;\">\n",
       "      <th></th>\n",
       "      <th>training iterations</th>\n",
       "      <th>perplexity</th>\n",
       "      <th>perplexity POS</th>\n",
       "    </tr>\n",
       "  </thead>\n",
       "  <tbody>\n",
       "    <tr>\n",
       "      <th>count</th>\n",
       "      <td>10.000000</td>\n",
       "      <td>10.000000</td>\n",
       "      <td>10.000000</td>\n",
       "    </tr>\n",
       "    <tr>\n",
       "      <th>mean</th>\n",
       "      <td>1100.000000</td>\n",
       "      <td>4908.484018</td>\n",
       "      <td>1.421762</td>\n",
       "    </tr>\n",
       "    <tr>\n",
       "      <th>std</th>\n",
       "      <td>605.530071</td>\n",
       "      <td>5005.262299</td>\n",
       "      <td>0.097818</td>\n",
       "    </tr>\n",
       "    <tr>\n",
       "      <th>min</th>\n",
       "      <td>200.000000</td>\n",
       "      <td>361.236389</td>\n",
       "      <td>1.255644</td>\n",
       "    </tr>\n",
       "    <tr>\n",
       "      <th>25%</th>\n",
       "      <td>650.000000</td>\n",
       "      <td>645.611435</td>\n",
       "      <td>1.354799</td>\n",
       "    </tr>\n",
       "    <tr>\n",
       "      <th>50%</th>\n",
       "      <td>1100.000000</td>\n",
       "      <td>2938.039612</td>\n",
       "      <td>1.428432</td>\n",
       "    </tr>\n",
       "    <tr>\n",
       "      <th>75%</th>\n",
       "      <td>1550.000000</td>\n",
       "      <td>8683.697144</td>\n",
       "      <td>1.456079</td>\n",
       "    </tr>\n",
       "    <tr>\n",
       "      <th>max</th>\n",
       "      <td>2000.000000</td>\n",
       "      <td>12988.845703</td>\n",
       "      <td>1.603203</td>\n",
       "    </tr>\n",
       "  </tbody>\n",
       "</table>\n",
       "</div>"
      ],
      "text/plain": [
       "       training iterations    perplexity  perplexity POS\n",
       "count            10.000000     10.000000       10.000000\n",
       "mean           1100.000000   4908.484018        1.421762\n",
       "std             605.530071   5005.262299        0.097818\n",
       "min             200.000000    361.236389        1.255644\n",
       "25%             650.000000    645.611435        1.354799\n",
       "50%            1100.000000   2938.039612        1.428432\n",
       "75%            1550.000000   8683.697144        1.456079\n",
       "max            2000.000000  12988.845703        1.603203"
      ]
     },
     "metadata": {},
     "output_type": "display_data"
    }
   ],
   "source": [
    "# Summary statistics for Normal Corpus\n",
    "print(\"Summary Statistics - Normal Corpus:\")\n",
    "display(df_normal.describe())\n",
    "\n",
    "# Summary statistics for POS-Tagged Corpus\n",
    "print(\"\\nSummary Statistics - POS-Tagged Corpus:\")\n",
    "display(df_post.describe())\n"
   ]
  },
  {
   "cell_type": "code",
   "execution_count": 13,
   "metadata": {},
   "outputs": [
    {
     "data": {
      "image/png": "[encoded data removed]",
      "text/plain": [
       "<Figure size 1200x600 with 1 Axes>"
      ]
     },
     "metadata": {},
     "output_type": "display_data"
    }
   ],
   "source": [
    "# Merge the two DataFrames on 'training iterations', allowing mismatched rows and filling missing values with NaN\n",
    "df_merged = pd.merge(\n",
    "    df_normal, \n",
    "    df_post, \n",
    "    on='training iterations', \n",
    "    how='outer',  # Ensures all iterations from both DataFrames are included\n",
    "    suffixes=('_normal', '_POS')\n",
    ").sort_values(by='training iterations')  # Sort by 'training iterations' for better plotting\n",
    "\n",
    "# Plot perplexity for both corpora\n",
    "plt.figure(figsize=(12, 6))\n",
    "plt.plot(df_merged['training iterations'], df_merged['perplexity_normal'], label='Normal Corpus', marker='o', linestyle='-')\n",
    "plt.plot(df_merged['training iterations'], df_merged['perplexity_POS'], label='POS-Tagged Corpus', marker='s', linestyle='-')\n",
    "plt.xlabel('Training Iterations')\n",
    "plt.ylabel('Perplexity')\n",
    "plt.title('Perplexity vs. Training Iterations')\n",
    "plt.legend()\n",
    "plt.tight_layout()\n",
    "plt.savefig('perplexity_vs_training_iterations.png')\n",
    "plt.show()"
   ]
  }
 ],
 "metadata": {
  "kernelspec": {
   "display_name": "research-llm-env",
   "language": "python",
   "name": "python3"
  },
  "language_info": {
   "codemirror_mode": {
    "name": "ipython",
    "version": 3
   },
   "file_extension": ".py",
   "mimetype": "text/x-python",
   "name": "python",
   "nbconvert_exporter": "python",
   "pygments_lexer": "ipython3",
   "version": "3.11.10"
  }
 },
 "nbformat": 4,
 "nbformat_minor": 2
}
