{
 "cells": [
  {
   "cell_type": "code",
   "execution_count": null,
   "metadata": {},
   "outputs": [],
   "source": [
    "print(\"Hello\")"
   ]
  },
  {
   "cell_type": "code",
   "execution_count": null,
   "metadata": {},
   "outputs": [],
   "source": [
    "import pandas as pd\n",
    "import matplotlib.pyplot as plt\n",
    "import glob\n",
    "import os\n",
    "\n",
    "# Find all CSV files in the current directory and subdirectories\n",
    "csv_files = glob.glob('**/*.csv', recursive=True)\n",
    "\n",
    "# Plot 'perplexity POS' vs 'training iterations' for all CSV files\n",
    "plt.figure(figsize=(10, 6))\n",
    "\n",
    "for file in csv_files:\n",
    "    data = pd.read_csv(file)\n",
    "    plt.plot(data['training iterations'], data['perplexity POS'], label=os.path.basename(file))\n",
    "\n",
    "plt.xlabel('Training Iterations')\n",
    "plt.ylabel('Perplexity POS')\n",
    "plt.title('Perplexity POS vs. Training Iterations')\n",
    "plt.legend()\n",
    "plt.show()\n",
    "\n",
    "# Plot 'perplexity' vs 'training iterations' for all CSV files\n",
    "plt.figure(figsize=(10, 6))\n",
    "\n",
    "for file in csv_files:\n",
    "    data = pd.read_csv(file)\n",
    "    plt.plot(data['training iterations'], data['perplexity'], label=os.path.basename(file))\n",
    "\n",
    "plt.xlabel('Training Iterations')\n",
    "plt.ylabel('Perplexity')\n",
    "plt.title('Perplexity vs. Training Iterations')\n",
    "plt.legend()\n",
    "plt.show()\n"
   ]
  }
 ],
 "metadata": {
  "language_info": {
   "name": "python"
  }
 },
 "nbformat": 4,
 "nbformat_minor": 2
}
