{
 "cells": [
  {
   "cell_type": "code",
   "execution_count": 1,
   "metadata": {},
   "outputs": [
    {
     "name": "stdout",
     "output_type": "stream",
     "text": [
      "Hi\n"
     ]
    }
   ],
   "source": [
    "print(\"Hi\")"
   ]
  },
  {
   "cell_type": "code",
   "execution_count": 23,
   "metadata": {},
   "outputs": [
    {
     "name": "stdout",
     "output_type": "stream",
     "text": [
      "['Brightly', 'jumping', 'jellybeans', 'became', 'jubilant', '.']\n"
     ]
    }
   ],
   "source": [
    "import nltk\n",
    "from nltk import pos_tag, word_tokenize\n",
    "\n",
    "# Download necessary NLTK data files (only need to run once)\n",
    "# nltk.download('punkt')\n",
    "# nltk.download('punkt_tab')\n",
    "# nltk.download('averaged_perceptron_tagger_eng')\n",
    "\n",
    "def process_sentence(sentence):\n",
    "    # Tokenize the sentence into words using word_tokenize\n",
    "    tokens = word_tokenize(sentence)\n",
    "    \n",
    "    # Get POS tags for each token\n",
    "    pos_tags = pos_tag(tokens)\n",
    "    \n",
    "    output = []\n",
    "    \n",
    "    for token, (word, pos) in zip(tokens, pos_tags):\n",
    "        # Add POS tag and the whole word to the output list\n",
    "        output.extend([token])\n",
    "    \n",
    "    return output\n",
    "\n",
    "# Example usage with the original sentence\n",
    "sentence = \"Brightly jumping jellybeans became jubilant.\"\n",
    "result = process_sentence(sentence)\n",
    "print(result)\n"
   ]
  },
  {
   "cell_type": "code",
   "execution_count": null,
   "metadata": {},
   "outputs": [],
   "source": []
  }
 ],
 "metadata": {
  "kernelspec": {
   "display_name": "research-llm-env",
   "language": "python",
   "name": "python3"
  },
  "language_info": {
   "codemirror_mode": {
    "name": "ipython",
    "version": 3
   },
   "file_extension": ".py",
   "mimetype": "text/x-python",
   "name": "python",
   "nbconvert_exporter": "python",
   "pygments_lexer": "ipython3",
   "version": "3.11.9"
  }
 },
 "nbformat": 4,
 "nbformat_minor": 2
}
